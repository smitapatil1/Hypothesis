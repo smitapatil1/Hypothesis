{
  "nbformat": 4,
  "nbformat_minor": 0,
  "metadata": {
    "colab": {
      "provenance": [],
      "authorship_tag": "ABX9TyNKeEW87ocviWO2gl/BPx/w",
      "include_colab_link": true
    },
    "kernelspec": {
      "name": "python3",
      "display_name": "Python 3"
    },
    "language_info": {
      "name": "python"
    }
  },
  "cells": [
    {
      "cell_type": "markdown",
      "metadata": {
        "id": "view-in-github",
        "colab_type": "text"
      },
      "source": [
        "<a href=\"https://colab.research.google.com/github/smitapatil1/Hypothesis/blob/main/buyer_ratio.ipynb\" target=\"_parent\"><img src=\"https://colab.research.google.com/assets/colab-badge.svg\" alt=\"Open In Colab\"/></a>"
      ]
    },
    {
      "cell_type": "code",
      "execution_count": null,
      "metadata": {
        "id": "CC3U3Q-6XAuc"
      },
      "outputs": [],
      "source": [
        "import numpy as np\n",
        "import scipy.stats as stats\n",
        "import pandas as pd"
      ]
    },
    {
      "cell_type": "code",
      "source": [
        "buyer_ratio= pd.read_csv(\"/content/BuyerRatio (1).csv\")"
      ],
      "metadata": {
        "id": "QxjJe0rtqWqM"
      },
      "execution_count": null,
      "outputs": []
    },
    {
      "cell_type": "markdown",
      "source": [
        "Null hypothesis (H0):- All proportions are equal\n",
        "\n",
        "Alternative hypothesis (H1): Not all propotions are equal\n",
        "\n",
        "Test to be used:-Chi-square test\n",
        "\n"
      ],
      "metadata": {
        "id": "BUweGKSSrElZ"
      }
    },
    {
      "cell_type": "code",
      "source": [
        "#contingency table\n",
        "table=[50,142,131,70],[550,351,480,350]\n",
        "print(table)"
      ],
      "metadata": {
        "id": "C9THB-a3XYEa",
        "colab": {
          "base_uri": "https://localhost:8080/"
        },
        "outputId": "c3ce8df9-e70b-4881-dc65-93de1f5c6738"
      },
      "execution_count": null,
      "outputs": [
        {
          "output_type": "stream",
          "name": "stdout",
          "text": [
            "([50, 142, 131, 70], [550, 351, 480, 350])\n"
          ]
        }
      ]
    },
    {
      "cell_type": "code",
      "source": [
        "\n",
        "stat, p, dof, expected=stats.chi2_contingency(table)\n",
        "print(stat)\n",
        "print(p)\n",
        "print(dof)\n",
        "print(expected)\n",
        "\n"
      ],
      "metadata": {
        "colab": {
          "base_uri": "https://localhost:8080/"
        },
        "id": "9yUEYNfkssq_",
        "outputId": "de08d0ee-ea36-47e7-ae12-317007cd0912"
      },
      "execution_count": null,
      "outputs": [
        {
          "output_type": "stream",
          "name": "stdout",
          "text": [
            "80.27295426602495\n",
            "2.682172557281901e-17\n",
            "3\n",
            "[[111.01694915  91.21892655 113.05225989  77.71186441]\n",
            " [488.98305085 401.78107345 497.94774011 342.28813559]]\n"
          ]
        }
      ]
    },
    {
      "cell_type": "markdown",
      "source": [
        "p-value obtained from the chi-square test is less than the significance level (commonly set to 0.05), we reject the null hypothesis and conclude that there is evidence that the male-female buyer ratios are not similar across regions."
      ],
      "metadata": {
        "id": "aqRGh9Zhvpd1"
      }
    }
  ]
}